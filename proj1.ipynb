{
 "cells": [
  {
   "cell_type": "code",
   "execution_count": 163,
   "id": "28d43d2b",
   "metadata": {},
   "outputs": [],
   "source": [
    "import numpy as np\n",
    "import math\n",
    "import random\n",
    "import csv\n",
    "import pandas as pd\n",
    "import matplotlib.pyplot as plt\n",
    "import scipy.io as scio\n",
    "import copy"
   ]
  },
  {
   "cell_type": "code",
   "execution_count": 164,
   "id": "c9b7aa81",
   "metadata": {},
   "outputs": [],
   "source": [
    "n_s = 201  # state space\n",
    "n_a = 2  # action space\n",
    "n_sa = n_s * n_a  # state-action space\n",
    "u = 5  # adding customers\n",
    "K = 15  #\n",
    "cf = 100\n",
    "ch = 2\n",
    "gamma = 0.95\n",
    "\n",
    "T = 500\n",
    "\n",
    "p = np.zeros((n_s, n_a, n_s))\n",
    "cost = np.zeros((n_s,n_a))\n",
    "policy = np.zeros(n_s)\n",
    "# bellman equ\n",
    "q = np.zeros((n_s,n_a))\n",
    "v = np.zeros(n_s)\n",
    "\n",
    "# rewards and transition\n",
    "for s in range(n_s):\n",
    "    for a in range(n_a):\n",
    "        cost[s,a] = ch*s + cf*a\n",
    "        for j in range(u):\n",
    "            s_new = int( min( max(s - K*a, 0) + j + 1, n_s-1) )\n",
    "            p[s, a, s_new] = p[s, a, s_new] + 0.2 "
   ]
  },
  {
   "cell_type": "code",
   "execution_count": 165,
   "id": "77b396b3",
   "metadata": {
    "scrolled": true
   },
   "outputs": [],
   "source": [
    "# enumeration\n",
    "for t in range(T):\n",
    "    for s in range(n_s):\n",
    "        for a in range(n_a):\n",
    "            v[s] = min([cost[s,a] + gamma*sum([ p[s,a,s_new]*v[s_new] for s_new in range(n_s) ]) for a in range(n_a) ])\n",
    "\n",
    "for s in range(n_s):\n",
    "    for a in range(n_a):\n",
    "        q[s,a] = cost[s,a] + gamma*sum([ p[s,a,s_new]*v[s_new] for s_new in range(n_s) ])"
   ]
  },
  {
   "cell_type": "code",
   "execution_count": 179,
   "id": "abc34739",
   "metadata": {},
   "outputs": [
    {
     "name": "stdout",
     "output_type": "stream",
     "text": [
      "The optimal policy calculated by enumeration is to dispatch the shuttle when the customers waiting is larger than 13.\n"
     ]
    }
   ],
   "source": [
    "policy_enu = np.argmin(q, axis = 1)\n",
    "v_enu = v\n",
    "print(\"The optimal policy calculated by enumeration is to dispatch the shuttle when the customers \\\n",
    "waiting is larger than %d.\" % (np.argmax(policy_enu)))"
   ]
  },
  {
   "cell_type": "code",
   "execution_count": 167,
   "id": "9c0f4f14",
   "metadata": {},
   "outputs": [],
   "source": [
    "# value iter\n",
    "policy = np.zeros(n_s)\n",
    "# bellman equ\n",
    "q = np.zeros((n_s,n_a))\n",
    "v = np.zeros(n_s)\n",
    "v_new = np.zeros(n_s)\n",
    "\n",
    "eps1 = 1\n",
    "v_new1 = np.zeros(n_s)\n",
    "\n",
    "while eps1 >= 1e-5:\n",
    "    for s in range(n_s):\n",
    "        for a in range(n_a):\n",
    "            q[s,a] = cost[s,a] + gamma*sum([ p[s,a,s_new]*v[s_new] for s_new in range(n_s) ])\n",
    "        policy = np.argmin(q, axis = 1)\n",
    "        v_new[s] = q[s, int(policy[s])]\n",
    "    eps1 = np.max(np.abs(v_new - v))\n",
    "    # print(q)\n",
    "    # v = v_new\n",
    "    for s in range(n_s):\n",
    "        v[s] = v_new[s]"
   ]
  },
  {
   "cell_type": "code",
   "execution_count": 180,
   "id": "b2d11377",
   "metadata": {
    "scrolled": true
   },
   "outputs": [
    {
     "name": "stdout",
     "output_type": "stream",
     "text": [
      "The optimal policy calculated by value iteration is: 13.\n"
     ]
    }
   ],
   "source": [
    "policy_val = policy\n",
    "v_val = v\n",
    "print(\"The optimal policy calculated by value iteration is: %d.\" % (np.argmax(policy_val)))"
   ]
  },
  {
   "cell_type": "code",
   "execution_count": 169,
   "id": "bafec6fd",
   "metadata": {},
   "outputs": [],
   "source": [
    "# policy iter\n",
    "\n",
    "policy = np.zeros(n_s)\n",
    "# bellman equ\n",
    "q = np.zeros((n_s,n_a))\n",
    "v = np.zeros(n_s)\n",
    "v_new = np.zeros(n_s)\n",
    "\n",
    "eps1 = 1\n",
    "v_new1 = np.zeros(n_s)\n",
    "\n",
    "while eps1 >= 1e-5:\n",
    "    v = np.zeros(n_s)\n",
    "    for _ in range(500):\n",
    "        # policy evaluation\n",
    "        for s in range(n_s):\n",
    "            for a in range(n_a):\n",
    "                q[s,a] = cost[s,a] + gamma*sum([ p[s,a,s_new]*v[s_new] for s_new in range(n_s) ])\n",
    "            v[s] = q[s, int(policy[s])]\n",
    "    policy = np.argmin(q, axis = 1)\n",
    "    eps1 = np.max(np.abs(v_new1 - v))\n",
    "    v_new1 = v"
   ]
  },
  {
   "cell_type": "code",
   "execution_count": 181,
   "id": "b4cb75c2",
   "metadata": {},
   "outputs": [
    {
     "name": "stdout",
     "output_type": "stream",
     "text": [
      "The optimal policy calculated by policy iteration is: 13.\n"
     ]
    }
   ],
   "source": [
    "policy_p = policy\n",
    "v_p = v\n",
    "print(\"The optimal policy calculated by policy iteration is: %d.\" % (np.argmax(policy_p)))"
   ]
  },
  {
   "cell_type": "code",
   "execution_count": 173,
   "id": "cb4652e4",
   "metadata": {},
   "outputs": [
    {
     "data": {
      "image/png": "[encoded data removed]",
      "text/plain": [
       "<Figure size 432x288 with 1 Axes>"
      ]
     },
     "metadata": {
      "needs_background": "light"
     },
     "output_type": "display_data"
    },
    {
     "name": "stdout",
     "output_type": "stream",
     "text": [
      "These plots almost coincide.\n"
     ]
    }
   ],
   "source": [
    "plt.plot(v_enu, label = 'enumeration', color = 'r')\n",
    "plt.plot(v_val, label = 'value iteration', color = 'g')\n",
    "plt.plot(v_p, label = 'policy iteration', color = 'b')\n",
    "plt.legend()\n",
    "plt.xlabel('customers waiting')\n",
    "plt.ylabel('optimal value function')\n",
    "plt.show()\n",
    "print('These plots almost coincide.')"
   ]
  }
 ],
 "metadata": {
  "kernelspec": {
   "display_name": "Python 3",
   "language": "python",
   "name": "python3"
  },
  "language_info": {
   "codemirror_mode": {
    "name": "ipython",
    "version": 3
   },
   "file_extension": ".py",
   "mimetype": "text/x-python",
   "name": "python",
   "nbconvert_exporter": "python",
   "pygments_lexer": "ipython3",
   "version": "3.8.8"
  }
 },
 "nbformat": 4,
 "nbformat_minor": 5
}
